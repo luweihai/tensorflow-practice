{
 "cells": [
  {
   "cell_type": "markdown",
   "metadata": {},
   "source": [
    "## CNN介绍\n",
    "Convolutional Neural Networks翻译为卷积神经网络，常用在图像识别和语音分析等领域"
   ]
  },
  {
   "cell_type": "code",
   "execution_count": 1,
   "metadata": {},
   "outputs": [],
   "source": [
    "import tensorflow as tf\n",
    "import numpy as np"
   ]
  },
  {
   "cell_type": "markdown",
   "metadata": {},
   "source": [
    "## MNIST数据集"
   ]
  },
  {
   "cell_type": "markdown",
   "metadata": {},
   "source": [
    "### 加载MNIST数据集"
   ]
  },
  {
   "cell_type": "code",
   "execution_count": 3,
   "metadata": {},
   "outputs": [
    {
     "name": "stdout",
     "output_type": "stream",
     "text": [
      "Extracting E:\\src\\pycharm\\tensorflow-learn\\data\\mnist\\train-images-idx3-ubyte.gz\n",
      "Extracting E:\\src\\pycharm\\tensorflow-learn\\data\\mnist\\train-labels-idx1-ubyte.gz\n",
      "Extracting E:\\src\\pycharm\\tensorflow-learn\\data\\mnist\\t10k-images-idx3-ubyte.gz\n",
      "Extracting E:\\src\\pycharm\\tensorflow-learn\\data\\mnist\\t10k-labels-idx1-ubyte.gz\n"
     ]
    }
   ],
   "source": [
    "# Import MNIST data\n",
    "from tensorflow.examples.tutorials.mnist import input_data\n",
    "mnist = input_data.read_data_sets('E:\\\\src\\\\pycharm\\\\tensorflow-learn\\\\data\\\\mnist', one_hot=True)"
   ]
  },
  {
   "cell_type": "code",
   "execution_count": 4,
   "metadata": {},
   "outputs": [],
   "source": [
    "n_output_layer = 10  #输出类别为10"
   ]
  },
  {
   "cell_type": "markdown",
   "metadata": {},
   "source": [
    "### 定义待训练的卷积神经网络"
   ]
  },
  {
   "cell_type": "code",
   "execution_count": 5,
   "metadata": {},
   "outputs": [],
   "source": [
    "def convolutional_neural_network(data):\n",
    "    weights = {'w_conv1': tf.Variable(tf.random_normal([5, 5, 1, 32])),\n",
    "              'w_conv2': tf.Variable(tf.random_normal([5, 5, 32, 64])),\n",
    "              'w_fc': tf.Variable(tf.random_normal([7*7*64, 1024])),\n",
    "              'out': tf.Variable(tf.random_normal([1024, n_output_layer]))}\n",
    "    biases = {'b_conv1': tf.Variable(tf.random_normal([32])),\n",
    "             'b_conv2': tf.Variable(tf.random_normal([64])),\n",
    "             'b_fc': tf.Variable(tf.random_normal([1024])),\n",
    "             'out': tf.Variable(tf.random_normal([n_output_layer]))}\n",
    "    \n",
    "    data = tf.reshape(data, [-1, 28, 28, 1])\n",
    "    \n",
    "    conv1 = tf.nn.relu(tf.add(tf.nn.conv2d(data, weights['w_conv1'], strides=[1,1,1,1], padding='SAME'), biases['b_conv1']))\n",
    "    conv1 = tf.nn.max_pool(conv1, ksize=[1,2,2,1], strides=[1,2,2,1], padding='SAME')\n",
    "    \n",
    "    conv2 = tf.nn.relu(tf.add(tf.nn.conv2d(conv1, weights['w_conv2'], strides=[1,1,1,1], padding='SAME'), biases['b_conv2']))\n",
    "    conv2 = tf.nn.max_pool(conv2, ksize=[1,2,2,1], strides=[1,2,2,1], padding='SAME')\n",
    "    \n",
    "    fc = tf.reshape(conv2, [-1, 7*7*64])\n",
    "    fc = tf.nn.relu(tf.add(tf.matmul(fc, weights['w_fc']), biases['b_fc']))\n",
    "    \n",
    "    # dropout剔除一些“神经元”\n",
    "    #fc = tf.nn.dropout(fc, 0.8)\n",
    "    \n",
    "    output = tf.add(tf.matmul(fc, weights['out']), biases['out'])\n",
    "    return output"
   ]
  },
  {
   "cell_type": "markdown",
   "metadata": {},
   "source": [
    "## 参数定义"
   ]
  },
  {
   "cell_type": "code",
   "execution_count": 6,
   "metadata": {},
   "outputs": [],
   "source": [
    "# 每次是用100条数据进行训练\n",
    "batch_size = 100\n",
    "\n",
    "X = tf.placeholder(tf.float32, [None, 28*28])\n",
    "Y = tf.placeholder(tf.float32)"
   ]
  },
  {
   "cell_type": "markdown",
   "metadata": {},
   "source": [
    "## 使用数据集训练卷积神经网络"
   ]
  },
  {
   "cell_type": "code",
   "execution_count": 7,
   "metadata": {},
   "outputs": [],
   "source": [
    "def train_neural_network(X, Y):\n",
    "    predict = convolutional_neural_network(X)\n",
    "    cost_func = tf.reduce_mean(tf.nn.softmax_cross_entropy_with_logits(logits=predict, labels=Y))\n",
    "    optimizer = tf.train.AdamOptimizer().minimize(cost_func) # learning rate 默认 0.001\n",
    "    \n",
    "    epochs = 1\n",
    "    with tf.Session() as session:\n",
    "        session.run(tf.global_variables_initializer())\n",
    "        epoch_loss = 0\n",
    "        for epoch in range(epochs):\n",
    "            for i in range(int(mnist.train.num_examples/batch_size)):\n",
    "                x, y = mnist.train.next_batch(batch_size)\n",
    "                _, c = session.run([optimizer, cost_func], feed_dict={X:x,Y:y})\n",
    "                epoch_loss += c\n",
    "            print(epoch, ' : ', epoch_loss)\n",
    "            \n",
    "        correct = tf.equal(tf.argmax(predict, 1), tf.argmax(Y, 1))\n",
    "        accuracy = tf.reduce_mean(tf.cast(correct, tf.float32))\n",
    "        print('准确率 : ', accuracy.eval({X:mnist.test.images, Y:mnist.test.labels}))"
   ]
  },
  {
   "cell_type": "code",
   "execution_count": 8,
   "metadata": {},
   "outputs": [
    {
     "name": "stdout",
     "output_type": "stream",
     "text": [
      "WARNING:tensorflow:From <ipython-input-7-1cc59fbfb2f8>:3: softmax_cross_entropy_with_logits (from tensorflow.python.ops.nn_ops) is deprecated and will be removed in a future version.\n",
      "Instructions for updating:\n",
      "\n",
      "Future major versions of TensorFlow will allow gradients to flow\n",
      "into the labels input on backprop by default.\n",
      "\n",
      "See `tf.nn.softmax_cross_entropy_with_logits_v2`.\n",
      "\n",
      "0  :  1261164.5277404785\n",
      "准确率 :  0.9273\n"
     ]
    }
   ],
   "source": [
    "train_neural_network(X, Y)"
   ]
  },
  {
   "cell_type": "code",
   "execution_count": null,
   "metadata": {},
   "outputs": [],
   "source": []
  }
 ],
 "metadata": {
  "kernelspec": {
   "display_name": "Python 3",
   "language": "python",
   "name": "python3"
  },
  "language_info": {
   "codemirror_mode": {
    "name": "ipython",
    "version": 3
   },
   "file_extension": ".py",
   "mimetype": "text/x-python",
   "name": "python",
   "nbconvert_exporter": "python",
   "pygments_lexer": "ipython3",
   "version": "3.6.5"
  },
  "toc": {
   "base_numbering": 1,
   "nav_menu": {},
   "number_sections": true,
   "sideBar": true,
   "skip_h1_title": false,
   "title_cell": "Table of Contents",
   "title_sidebar": "Contents",
   "toc_cell": false,
   "toc_position": {},
   "toc_section_display": true,
   "toc_window_display": false
  }
 },
 "nbformat": 4,
 "nbformat_minor": 2
}
