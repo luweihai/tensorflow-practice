{
 "cells": [
  {
   "cell_type": "code",
   "execution_count": 2,
   "metadata": {},
   "outputs": [
    {
     "name": "stdout",
     "output_type": "stream",
     "text": [
      "Extracting E:\\src\\pycharm\\tensorflow-learn\\data\\mnist\\train-images-idx3-ubyte.gz\n",
      "Extracting E:\\src\\pycharm\\tensorflow-learn\\data\\mnist\\train-labels-idx1-ubyte.gz\n",
      "Extracting E:\\src\\pycharm\\tensorflow-learn\\data\\mnist\\t10k-images-idx3-ubyte.gz\n",
      "Extracting E:\\src\\pycharm\\tensorflow-learn\\data\\mnist\\t10k-labels-idx1-ubyte.gz\n"
     ]
    }
   ],
   "source": [
    "# Import MNIST data\n",
    "from tensorflow.examples.tutorials.mnist import input_data\n",
    "import tensorflow as tf\n",
    "\n",
    "mnist = input_data.read_data_sets('E:\\\\src\\\\pycharm\\\\tensorflow-learn\\\\data\\\\mnist', one_hot=True)\n"
   ]
  },
  {
   "cell_type": "code",
   "execution_count": 3,
   "metadata": {},
   "outputs": [],
   "source": [
    "# 参数，设置学习率、学习轮次、每批次样本数目以及每次学习都展示\n",
    "learning_rate = 0.01\n",
    "training_epochs = 25\n",
    "batch_size = 100\n",
    "display_step = 1"
   ]
  },
  {
   "cell_type": "code",
   "execution_count": 4,
   "metadata": {},
   "outputs": [],
   "source": [
    "# 设置 placeholder当作输入\n",
    "X = tf.placeholder(tf.float32 , shape= [None , 784]) # 传入 不定行 但是 784列的数据\n",
    "Y = tf.placeholder(tf.float32 , shape=[None , 10]) # 传入不定行 但是 10列的数据"
   ]
  },
  {
   "cell_type": "code",
   "execution_count": 5,
   "metadata": {},
   "outputs": [],
   "source": [
    "W = tf.Variable(tf.zeros([784 , 10]))\n",
    "b = tf.Variable(tf.zeros([10]))   # 这里只有一个维度，可以是1行10列的向量"
   ]
  },
  {
   "cell_type": "code",
   "execution_count": 7,
   "metadata": {},
   "outputs": [],
   "source": [
    "# 构建模型，这里使用的是 softmax函数\n",
    "pred = tf.nn.softmax(tf.matmul(X , W) + b)  # 这里是矩阵相乘"
   ]
  },
  {
   "cell_type": "code",
   "execution_count": 9,
   "metadata": {},
   "outputs": [],
   "source": [
    "# 损失函数，采用对数损失函数\n",
    "cost = tf.reduce_mean( -tf.reduce_sum(Y * tf.log(pred) , reduction_indices=1))"
   ]
  },
  {
   "cell_type": "code",
   "execution_count": 10,
   "metadata": {},
   "outputs": [],
   "source": [
    "# 梯度下降\n",
    "optimizer = tf.train.GradientDescentOptimizer(learning_rate=learning_rate).minimize(cost)"
   ]
  },
  {
   "cell_type": "code",
   "execution_count": 11,
   "metadata": {},
   "outputs": [],
   "source": [
    "# 变量初始化\n",
    "init = tf.global_variables_initializer()"
   ]
  },
  {
   "cell_type": "code",
   "execution_count": 15,
   "metadata": {},
   "outputs": [
    {
     "name": "stdout",
     "output_type": "stream",
     "text": [
      "Epoch: 0001 cost= 1.183380287\n",
      "Epoch: 0002 cost= 0.665076585\n",
      "Epoch: 0003 cost= 0.552820939\n",
      "Epoch: 0004 cost= 0.498676359\n",
      "Epoch: 0005 cost= 0.465425668\n",
      "Epoch: 0006 cost= 0.442581641\n",
      "Epoch: 0007 cost= 0.425531970\n",
      "Epoch: 0008 cost= 0.412137066\n",
      "Epoch: 0009 cost= 0.401338909\n",
      "Epoch: 0010 cost= 0.392370112\n",
      "Epoch: 0011 cost= 0.384771254\n",
      "Epoch: 0012 cost= 0.378153897\n",
      "Epoch: 0013 cost= 0.372399793\n",
      "Epoch: 0014 cost= 0.367264744\n",
      "Epoch: 0015 cost= 0.362714757\n",
      "Epoch: 0016 cost= 0.358618180\n",
      "Epoch: 0017 cost= 0.354867873\n",
      "Epoch: 0018 cost= 0.351437114\n",
      "Epoch: 0019 cost= 0.348351808\n",
      "Epoch: 0020 cost= 0.345375707\n",
      "Epoch: 0021 cost= 0.342718867\n",
      "Epoch: 0022 cost= 0.340293832\n",
      "Epoch: 0023 cost= 0.337863528\n",
      "Epoch: 0024 cost= 0.335763208\n",
      "Epoch: 0025 cost= 0.333703575\n",
      "Optimization Finished !\n",
      "Accuracy:  0.9141\n"
     ]
    }
   ],
   "source": [
    "# 开始训练了\n",
    "with tf.Session() as sess:\n",
    "    sess.run(init)\n",
    "    \n",
    "    #循环训练\n",
    "    for epoch in range(training_epochs):\n",
    "        avg_cost = 0.    # 一轮循环的平均误差\n",
    "        total_batch = int(mnist.train.num_examples / batch_size)  # 取多少批次\n",
    "        # 对一轮训练的所以批次全部进行训练\n",
    "        for i in range(total_batch):\n",
    "            # 取一个批次的数据，会随着for 循环自动变化\n",
    "            batch_xs , batch_ys = mnist.train.next_batch(batch_size=batch_size)\n",
    "            # 数据丢进去，这里是以一个批次为单位实现梯度下降\n",
    "            o , c = sess.run([optimizer , cost] , feed_dict = {X:batch_xs , Y:batch_ys})\n",
    "            # 计算平均误差\n",
    "            avg_cost = avg_cost + c / total_batch\n",
    "        if (epoch + 1) % display_step == 0:\n",
    "            print (\"Epoch:\", '%04d' % (epoch + 1), \"cost=\", \"{:.9f}\".format(avg_cost) )\n",
    "    print(\"Optimization Finished !\")\n",
    "    \n",
    "    # 测试模型\n",
    "    correct_prediction = tf.equal(tf.arg_max(pred , 1) , tf.arg_max(Y , 1))\n",
    "    \n",
    "    # 计算精度\n",
    "    accuracy = tf.reduce_mean(tf.cast(correct_prediction , tf.float32))\n",
    "    print(\"Accuracy: \" , accuracy.eval({X: mnist.test.images[:30000], Y: mnist.test.labels[:30000]}))"
   ]
  },
  {
   "cell_type": "code",
   "execution_count": null,
   "metadata": {},
   "outputs": [],
   "source": []
  }
 ],
 "metadata": {
  "kernelspec": {
   "display_name": "Python 3",
   "language": "python",
   "name": "python3"
  },
  "language_info": {
   "codemirror_mode": {
    "name": "ipython",
    "version": 3
   },
   "file_extension": ".py",
   "mimetype": "text/x-python",
   "name": "python",
   "nbconvert_exporter": "python",
   "pygments_lexer": "ipython3",
   "version": "3.6.5"
  },
  "toc": {
   "base_numbering": 1,
   "nav_menu": {},
   "number_sections": true,
   "sideBar": true,
   "skip_h1_title": false,
   "title_cell": "Table of Contents",
   "title_sidebar": "Contents",
   "toc_cell": false,
   "toc_position": {},
   "toc_section_display": true,
   "toc_window_display": false
  }
 },
 "nbformat": 4,
 "nbformat_minor": 2
}
