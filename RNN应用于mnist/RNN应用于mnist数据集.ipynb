{
 "cells": [
  {
   "cell_type": "markdown",
   "metadata": {},
   "source": [
    "## RNN介绍"
   ]
  },
  {
   "cell_type": "markdown",
   "metadata": {},
   "source": [
    "RNN的目的使用来处理序列数据。在传统的神经网络模型中，是从输入层到隐含层再到输出层，层与层之间是全连接的，每层之间的节点是无连接的。但是这种普通的神经网络对于很多问题却无能无力。例如，你要预测句子的下一个单词是什么，一般需要用到前面的单词，因为一个句子中前后单词并不是独立的。RNNs之所以称为循环神经网路，即一个序列当前的输出与前面的输出也有关。具体的表现形式为网络会对前面的信息进行记忆并应用于当前输出的计算中，即隐藏层之间的节点不再无连接而是有连接的，并且隐藏层的输入不仅包括输入层的输出还包括上一时刻隐藏层的输出"
   ]
  },
  {
   "cell_type": "code",
   "execution_count": 1,
   "metadata": {},
   "outputs": [],
   "source": [
    "import tensorflow as tf\n",
    "import numpy as np"
   ]
  },
  {
   "cell_type": "markdown",
   "metadata": {},
   "source": [
    "## MNIST数据集"
   ]
  },
  {
   "cell_type": "markdown",
   "metadata": {},
   "source": [
    "###  加载MNIST数据集"
   ]
  },
  {
   "cell_type": "code",
   "execution_count": 3,
   "metadata": {},
   "outputs": [
    {
     "name": "stdout",
     "output_type": "stream",
     "text": [
      "Extracting E:\\src\\pycharm\\tensorflow-learn\\data\\mnist\\train-images-idx3-ubyte.gz\n",
      "Extracting E:\\src\\pycharm\\tensorflow-learn\\data\\mnist\\train-labels-idx1-ubyte.gz\n",
      "Extracting E:\\src\\pycharm\\tensorflow-learn\\data\\mnist\\t10k-images-idx3-ubyte.gz\n",
      "Extracting E:\\src\\pycharm\\tensorflow-learn\\data\\mnist\\t10k-labels-idx1-ubyte.gz\n"
     ]
    }
   ],
   "source": [
    "# Import MNIST data\n",
    "from tensorflow.examples.tutorials.mnist import input_data\n",
    "mnist = input_data.read_data_sets('E:\\\\src\\\\pycharm\\\\tensorflow-learn\\\\data\\\\mnist', one_hot=True)"
   ]
  },
  {
   "cell_type": "markdown",
   "metadata": {},
   "source": [
    "### 定义网络的参数\n",
    "一张图片是 28*28，全连接神经网络是一次性把数据输入到网络，RNN是把它分为块"
   ]
  },
  {
   "cell_type": "code",
   "execution_count": 5,
   "metadata": {},
   "outputs": [],
   "source": [
    "chunk_size = 28\n",
    "chunk_n = 28\n",
    "\n",
    "rnn_size = 256\n",
    "\n",
    "n_output_layer = 10  # 输出层"
   ]
  },
  {
   "cell_type": "markdown",
   "metadata": {},
   "source": [
    "### 获得数据集"
   ]
  },
  {
   "cell_type": "code",
   "execution_count": 13,
   "metadata": {},
   "outputs": [],
   "source": [
    "X = tf.placeholder(tf.float32 , [None , chunk_n , chunk_size])  # 传入的是 chunk_n 为第二维度大小，chunk_size为第三维度大小，然后第一维度不定的三维tensor\n",
    "\n",
    "Y = tf.placeholder(tf.float32)"
   ]
  },
  {
   "cell_type": "markdown",
   "metadata": {},
   "source": [
    "## 定义待训练的神经网络"
   ]
  },
  {
   "cell_type": "code",
   "execution_count": 18,
   "metadata": {},
   "outputs": [],
   "source": [
    "def recurrent_neural_network(data):\n",
    "    layer = {'w_':tf.Variable(tf.random_normal([rnn_size, n_output_layer])),\n",
    "             'b_':tf.Variable(tf.random_normal([n_output_layer]))}\n",
    "    \n",
    "    lstm_cell = tf.contrib.rnn.BasicLSTMCell(rnn_size)\n",
    "    \n",
    "    data = tf.transpose(data, [1, 0, 2])\n",
    "    data = tf.reshape(data, [-1, chunk_size])\n",
    "    data = tf.split(data, chunk_n, 0)\n",
    "    outputs, status = tf.contrib.rnn.static_rnn(lstm_cell, data, dtype=tf.float32)\n",
    "    \n",
    "    output = tf.add(tf.matmul(outputs[-1], layer['w_']), layer['b_'])\n",
    "    \n",
    "    return output"
   ]
  },
  {
   "cell_type": "code",
   "execution_count": 19,
   "metadata": {},
   "outputs": [],
   "source": [
    "# 每次使用100条数据进行训练\n",
    "batch_size = 100"
   ]
  },
  {
   "cell_type": "markdown",
   "metadata": {},
   "source": [
    "## 使用数据集训练神经网络"
   ]
  },
  {
   "cell_type": "code",
   "execution_count": 22,
   "metadata": {},
   "outputs": [],
   "source": [
    "def train_neural_network(X, Y):\n",
    "    predict = recurrent_neural_network(X)\n",
    "    cost_func = tf.reduce_mean(tf.nn.softmax_cross_entropy_with_logits(logits=predict, labels=Y))\n",
    "    optimizer = tf.train.AdamOptimizer().minimize(cost_func)\n",
    "    \n",
    "    epochs = 13\n",
    "    with tf.Session() as session:\n",
    "        session.run(tf.global_variables_initializer())\n",
    "        epoch_loss = 0\n",
    "        for epoch in range(epochs):\n",
    "            for i in range(int(mnist.train.num_examples/batch_size)):\n",
    "                x, y = mnist.train.next_batch(batch_size)\n",
    "                x = x.reshape([batch_size, chunk_n, chunk_size])\n",
    "                _, c = session.run([optimizer, cost_func], feed_dict={X:x,Y:y})\n",
    "                epoch_loss += c\n",
    "            print(epoch, ' : ', epoch_loss)\n",
    "        \n",
    "        correct = tf.equal(tf.argmax(predict, 1), tf.argmax(Y, 1))\n",
    "        accuracy = tf.reduce_mean(tf.cast(correct, tf.float32))\n",
    "        print('准确率：', accuracy.eval({X:mnist.test.images.reshape(-1, chunk_n, chunk_size), Y:mnist.test.labels}))"
   ]
  },
  {
   "cell_type": "code",
   "execution_count": 23,
   "metadata": {},
   "outputs": [
    {
     "name": "stdout",
     "output_type": "stream",
     "text": [
      "WARNING:tensorflow:From <ipython-input-22-5d636781e6cf>:3: softmax_cross_entropy_with_logits (from tensorflow.python.ops.nn_ops) is deprecated and will be removed in a future version.\n",
      "Instructions for updating:\n",
      "\n",
      "Future major versions of TensorFlow will allow gradients to flow\n",
      "into the labels input on backprop by default.\n",
      "\n",
      "See `tf.nn.softmax_cross_entropy_with_logits_v2`.\n",
      "\n",
      "0  :  201.80437238886952\n",
      "1  :  264.90096345264465\n",
      "2  :  306.96007743338123\n",
      "3  :  340.337119553471\n",
      "4  :  367.3596371212043\n",
      "5  :  389.54029929009266\n",
      "6  :  407.70144107274245\n",
      "7  :  424.9165580555564\n",
      "8  :  439.8533933736908\n",
      "9  :  453.35339649439265\n",
      "10  :  465.5640587847738\n",
      "11  :  475.03265490471676\n",
      "12  :  485.70960237595136\n",
      "准确率： 0.9884\n"
     ]
    }
   ],
   "source": [
    "train_neural_network(X , Y)"
   ]
  },
  {
   "cell_type": "code",
   "execution_count": null,
   "metadata": {},
   "outputs": [],
   "source": []
  }
 ],
 "metadata": {
  "kernelspec": {
   "display_name": "Python 3",
   "language": "python",
   "name": "python3"
  },
  "language_info": {
   "codemirror_mode": {
    "name": "ipython",
    "version": 3
   },
   "file_extension": ".py",
   "mimetype": "text/x-python",
   "name": "python",
   "nbconvert_exporter": "python",
   "pygments_lexer": "ipython3",
   "version": "3.6.5"
  },
  "toc": {
   "base_numbering": 1,
   "nav_menu": {},
   "number_sections": true,
   "sideBar": true,
   "skip_h1_title": false,
   "title_cell": "Table of Contents",
   "title_sidebar": "Contents",
   "toc_cell": false,
   "toc_position": {},
   "toc_section_display": true,
   "toc_window_display": false
  }
 },
 "nbformat": 4,
 "nbformat_minor": 2
}
