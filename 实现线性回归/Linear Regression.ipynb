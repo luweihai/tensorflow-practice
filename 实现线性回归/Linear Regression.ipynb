{
 "cells": [
  {
   "cell_type": "code",
   "execution_count": 1,
   "metadata": {},
   "outputs": [],
   "source": [
    "import tensorflow as tf\n",
    "import numpy as np\n",
    "import matplotlib.pyplot as plt"
   ]
  },
  {
   "cell_type": "code",
   "execution_count": 11,
   "metadata": {},
   "outputs": [],
   "source": [
    "# 参数，分别是学习率，迭代次数，以及每50次迭代就打印一些东西\n",
    "learning_rate = 0.01\n",
    "training_epochs = 1000\n",
    "display_step = 50"
   ]
  },
  {
   "cell_type": "code",
   "execution_count": 12,
   "metadata": {},
   "outputs": [],
   "source": [
    "train_X = np.asarray([3.3,4.4,5.5,6.71,6.93,4.168,9.779,6.182,7.59,2.167,\n",
    "                         7.042,10.791,5.313,7.997,5.654,9.27,3.1])\n",
    "train_Y = np.asarray([1.7,2.76,2.09,3.19,1.694,1.573,3.366,2.596,2.53,1.221,\n",
    "                         2.827,3.465,1.65,2.904,2.42,2.94,1.3])\n",
    "n_samples = train_X.shape[0]  # shape[0]读取矩阵第一维度的长度,得到 train_X 的列数\n"
   ]
  },
  {
   "cell_type": "code",
   "execution_count": 13,
   "metadata": {},
   "outputs": [],
   "source": [
    "# tf.Graph Input\n",
    "X = tf.placeholder(tf.float32)\n",
    "Y = tf.placeholder(tf.float32)\n",
    "\n",
    "# Set model weights\n",
    "W = tf.Variable(np.random.randn() , name = \"weight\")\n",
    "b = tf.Variable(np.random.randn() , name = \"bias\")"
   ]
  },
  {
   "cell_type": "code",
   "execution_count": 14,
   "metadata": {},
   "outputs": [],
   "source": [
    "# 构造一个线性模型\n",
    "pred = tf.add(tf.multiply(X , W) , b)"
   ]
  },
  {
   "cell_type": "code",
   "execution_count": 15,
   "metadata": {},
   "outputs": [],
   "source": [
    "# 均方误差\n",
    "cost = tf.reduce_sum(tf.pow(pred - Y , 2)) / (2 * n_samples) \n",
    "\n",
    "#梯度下降\n",
    "optimizer = tf.train.GradientDescentOptimizer(learning_rate=learning_rate).minimize(cost)"
   ]
  },
  {
   "cell_type": "code",
   "execution_count": 16,
   "metadata": {},
   "outputs": [],
   "source": [
    "# 初始化全局变量\n",
    "init = tf.global_variables_initializer()"
   ]
  },
  {
   "cell_type": "code",
   "execution_count": 17,
   "metadata": {},
   "outputs": [
    {
     "name": "stdout",
     "output_type": "stream",
     "text": [
      "Epoch: 0050 cost =  0.077906154 W =  0.23292848 b = 0.92135423\n",
      "Epoch: 0100 cost =  0.077801913 W =  0.23391947 b = 0.91422486\n",
      "Epoch: 0150 cost =  0.077709615 W =  0.23485164 b = 0.90751916\n",
      "Epoch: 0200 cost =  0.077627875 W =  0.23572832 b = 0.901212\n",
      "Epoch: 0250 cost =  0.077555500 W =  0.23655294 b = 0.8952801\n",
      "Epoch: 0300 cost =  0.077491418 W =  0.23732843 b = 0.8897012\n",
      "Epoch: 0350 cost =  0.077434674 W =  0.23805779 b = 0.88445425\n",
      "Epoch: 0400 cost =  0.077384405 W =  0.23874384 b = 0.87951887\n",
      "Epoch: 0450 cost =  0.077339888 W =  0.23938906 b = 0.874877\n",
      "Epoch: 0500 cost =  0.077300437 W =  0.23999597 b = 0.87051094\n",
      "Epoch: 0550 cost =  0.077265516 W =  0.24056673 b = 0.866405\n",
      "Epoch: 0600 cost =  0.077234559 W =  0.24110365 b = 0.8625422\n",
      "Epoch: 0650 cost =  0.077207133 W =  0.24160872 b = 0.8589092\n",
      "Epoch: 0700 cost =  0.077182807 W =  0.24208368 b = 0.8554921\n",
      "Epoch: 0750 cost =  0.077161275 W =  0.24253026 b = 0.8522795\n",
      "Epoch: 0800 cost =  0.077142179 W =  0.24295045 b = 0.8492568\n",
      "Epoch: 0850 cost =  0.077125266 W =  0.2433455 b = 0.8464149\n",
      "Epoch: 0900 cost =  0.077110261 W =  0.24371722 b = 0.84374046\n",
      "Epoch: 0950 cost =  0.077096969 W =  0.2440667 b = 0.8412263\n",
      "Epoch: 1000 cost =  0.077085160 W =  0.24439555 b = 0.83886063\n",
      "Optimization Finished\n",
      "Training cost =  0.07708516 W =  0.24439555 b =  0.83886063 \n",
      "\n"
     ]
    },
    {
     "data": {
      "image/png": "[encoded data removed]",
      "text/plain": [
       "<Figure size 432x288 with 1 Axes>"
      ]
     },
     "metadata": {},
     "output_type": "display_data"
    }
   ],
   "source": [
    "# 开始训练\n",
    "with tf.Session() as sess:\n",
    "    sess.run(init)\n",
    "    \n",
    "    # 输入全部的训练数据\n",
    "    for epoch in range(training_epochs):\n",
    "        for (x , y) in zip(train_X , train_Y):\n",
    "            sess.run(optimizer , feed_dict = {X:x , Y:y})\n",
    "        \n",
    "        # 每次到了 display_step次迭代就显示当前的结果\n",
    "        if (epoch + 1) % display_step == 0:\n",
    "            # 这里是求出当前时刻对于全部样本的 cost \n",
    "            c = sess.run(cost , feed_dict = {X:train_X , Y:train_Y})\n",
    "            # 这里是格式化， %04d 是保留小数点后4位，后面这个是保留小数点后9位\n",
    "            print(\"Epoch:\" , '%04d' % (epoch + 1) , \"cost = \" , \"{:.9f}\".format(c) , \n",
    "                 \"W = \" , sess.run(W) , \"b =\" , sess.run(b) )\n",
    "    print(\"Optimization Finished\")\n",
    "    training_cost = sess.run(cost , feed_dict = {X:train_X , Y:train_Y})\n",
    "    print(\"Training cost = \" , training_cost , \"W = \" , sess.run(W) , \"b = \" , sess.run(b),'\\n' )\n",
    "    \n",
    "    # 展示图像\n",
    "    # 展示全部的点\n",
    "    plt.plot(train_X , train_Y , 'ro' , label = 'Original data')\n",
    "    # 展示拟合的直线\n",
    "    plt.plot(train_X , sess.run(W) * train_X + sess.run(b) , label = 'Fitted line')\n",
    "    # 增加标签\n",
    "    plt.legend()\n",
    "    plt.show()"
   ]
  },
  {
   "cell_type": "code",
   "execution_count": null,
   "metadata": {},
   "outputs": [],
   "source": []
  }
 ],
 "metadata": {
  "kernelspec": {
   "display_name": "Python 3",
   "language": "python",
   "name": "python3"
  },
  "language_info": {
   "codemirror_mode": {
    "name": "ipython",
    "version": 3
   },
   "file_extension": ".py",
   "mimetype": "text/x-python",
   "name": "python",
   "nbconvert_exporter": "python",
   "pygments_lexer": "ipython3",
   "version": "3.6.5"
  },
  "toc": {
   "base_numbering": 1,
   "nav_menu": {},
   "number_sections": true,
   "sideBar": true,
   "skip_h1_title": false,
   "title_cell": "Table of Contents",
   "title_sidebar": "Contents",
   "toc_cell": false,
   "toc_position": {},
   "toc_section_display": true,
   "toc_window_display": false
  }
 },
 "nbformat": 4,
 "nbformat_minor": 2
}
